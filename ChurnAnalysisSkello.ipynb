{
 "cells": [
  {
   "cell_type": "code",
   "execution_count": 1,
   "id": "8402a1b1-989f-4c02-a397-b551b1392701",
   "metadata": {},
   "outputs": [],
   "source": [
    "import pandas as pd\n",
    "import seaborn as sns\n",
    "import numpy as np\n",
    "import matplotlib.pyplot as plt\n",
    "import plotly.io as pio\n",
    "import plotly.express as px\n",
    "pio.renderers.default = \"iframe_connected\""
   ]
  },
  {
   "cell_type": "code",
   "execution_count": 2,
   "id": "3fc14343-a235-4c22-aaed-4d0752371bbe",
   "metadata": {},
   "outputs": [],
   "source": [
    "shops = pd.read_csv('shops.csv')"
   ]
  },
  {
   "cell_type": "code",
   "execution_count": 3,
   "id": "56108d39-bb1d-4e32-82f8-8e2331b3ec17",
   "metadata": {},
   "outputs": [
    {
     "data": {
      "text/html": [
       "<div>\n",
       "<style scoped>\n",
       "    .dataframe tbody tr th:only-of-type {\n",
       "        vertical-align: middle;\n",
       "    }\n",
       "\n",
       "    .dataframe tbody tr th {\n",
       "        vertical-align: top;\n",
       "    }\n",
       "\n",
       "    .dataframe thead th {\n",
       "        text-align: right;\n",
       "    }\n",
       "</style>\n",
       "<table border=\"1\" class=\"dataframe\">\n",
       "  <thead>\n",
       "    <tr style=\"text-align: right;\">\n",
       "      <th></th>\n",
       "      <th>SHOP_ID</th>\n",
       "      <th>COACH</th>\n",
       "      <th>ZIPCODE</th>\n",
       "      <th>CITY</th>\n",
       "      <th>COUNTRY</th>\n",
       "      <th>OPENING_TIME</th>\n",
       "      <th>CLOSING_TIME</th>\n",
       "      <th>IS_CANCELLED</th>\n",
       "      <th>CANCELLED_AT</th>\n",
       "      <th>AUTOMATIC_PLANNING_USES</th>\n",
       "      <th>...</th>\n",
       "      <th>MEAL_COMPENSATION_ACTIVATED</th>\n",
       "      <th>SEND_REPORT_BY_EMAIL</th>\n",
       "      <th>DAY_BADGING_ACTIVATED</th>\n",
       "      <th>CONFIGURED</th>\n",
       "      <th>BADGING</th>\n",
       "      <th>AUTOMATIC_PLANNING_ACTIVE</th>\n",
       "      <th>INTEGRATIONS</th>\n",
       "      <th>LATITUDE</th>\n",
       "      <th>LONGITUDE</th>\n",
       "      <th>CREATED_AT</th>\n",
       "    </tr>\n",
       "  </thead>\n",
       "  <tbody>\n",
       "    <tr>\n",
       "      <th>0</th>\n",
       "      <td>1743</td>\n",
       "      <td>marie-victoire@skello.io</td>\n",
       "      <td>35740</td>\n",
       "      <td>PACE</td>\n",
       "      <td>FR</td>\n",
       "      <td>2018-07-30 09:00:00.000000000</td>\n",
       "      <td>2018-07-30 00:00:00.000000000</td>\n",
       "      <td>True</td>\n",
       "      <td>2021-10-30 00:00:00.000000000</td>\n",
       "      <td>0</td>\n",
       "      <td>...</td>\n",
       "      <td>True</td>\n",
       "      <td>False</td>\n",
       "      <td>False</td>\n",
       "      <td>True</td>\n",
       "      <td>False</td>\n",
       "      <td>False</td>\n",
       "      <td>NaN</td>\n",
       "      <td>48.140920</td>\n",
       "      <td>-1.767448</td>\n",
       "      <td>2018-07-31 14:29:23.371493000</td>\n",
       "    </tr>\n",
       "    <tr>\n",
       "      <th>1</th>\n",
       "      <td>7623</td>\n",
       "      <td>marie-victoire@skello.io</td>\n",
       "      <td>73700</td>\n",
       "      <td>Bourg Saint Maurice</td>\n",
       "      <td>FR</td>\n",
       "      <td>2021-08-01 00:00:00.000000000</td>\n",
       "      <td>2021-08-01 00:00:00.000000000</td>\n",
       "      <td>True</td>\n",
       "      <td>2021-10-27 00:00:00.000000000</td>\n",
       "      <td>0</td>\n",
       "      <td>...</td>\n",
       "      <td>True</td>\n",
       "      <td>False</td>\n",
       "      <td>False</td>\n",
       "      <td>True</td>\n",
       "      <td>False</td>\n",
       "      <td>False</td>\n",
       "      <td>NaN</td>\n",
       "      <td>45.591389</td>\n",
       "      <td>6.769210</td>\n",
       "      <td>2020-10-26 10:01:48.877575000</td>\n",
       "    </tr>\n",
       "    <tr>\n",
       "      <th>2</th>\n",
       "      <td>4763</td>\n",
       "      <td>meng-lan@skello.io</td>\n",
       "      <td>71570</td>\n",
       "      <td>CHAINTRE</td>\n",
       "      <td>FR</td>\n",
       "      <td>2021-07-20 00:00:00.000000000</td>\n",
       "      <td>2021-07-20 00:00:00.000000000</td>\n",
       "      <td>True</td>\n",
       "      <td>2021-11-15 00:00:00.000000000</td>\n",
       "      <td>0</td>\n",
       "      <td>...</td>\n",
       "      <td>True</td>\n",
       "      <td>False</td>\n",
       "      <td>False</td>\n",
       "      <td>True</td>\n",
       "      <td>False</td>\n",
       "      <td>False</td>\n",
       "      <td>bhi</td>\n",
       "      <td>46.256817</td>\n",
       "      <td>4.791242</td>\n",
       "      <td>2019-12-05 14:21:31.775364000</td>\n",
       "    </tr>\n",
       "    <tr>\n",
       "      <th>3</th>\n",
       "      <td>8284</td>\n",
       "      <td>hello@skello.io</td>\n",
       "      <td>97434</td>\n",
       "      <td>LA SALINE LES BAINS</td>\n",
       "      <td>FR</td>\n",
       "      <td>2022-01-04 00:00:00.000000000</td>\n",
       "      <td>2022-01-04 00:00:00.000000000</td>\n",
       "      <td>True</td>\n",
       "      <td>2022-01-24 00:00:00.000000000</td>\n",
       "      <td>0</td>\n",
       "      <td>...</td>\n",
       "      <td>True</td>\n",
       "      <td>False</td>\n",
       "      <td>False</td>\n",
       "      <td>True</td>\n",
       "      <td>False</td>\n",
       "      <td>False</td>\n",
       "      <td>NaN</td>\n",
       "      <td>-21.099753</td>\n",
       "      <td>55.242180</td>\n",
       "      <td>2021-01-18 08:18:07.043409000</td>\n",
       "    </tr>\n",
       "    <tr>\n",
       "      <th>4</th>\n",
       "      <td>2054</td>\n",
       "      <td>constance@skello.io</td>\n",
       "      <td>45100</td>\n",
       "      <td>ORLEANS LA SOURCE</td>\n",
       "      <td>FR</td>\n",
       "      <td>2020-08-27 05:00:00.000000000</td>\n",
       "      <td>2020-08-27 05:00:00.000000000</td>\n",
       "      <td>True</td>\n",
       "      <td>2021-07-12 00:00:00.000000000</td>\n",
       "      <td>0</td>\n",
       "      <td>...</td>\n",
       "      <td>True</td>\n",
       "      <td>False</td>\n",
       "      <td>False</td>\n",
       "      <td>True</td>\n",
       "      <td>False</td>\n",
       "      <td>False</td>\n",
       "      <td>spv</td>\n",
       "      <td>47.814633</td>\n",
       "      <td>1.929799</td>\n",
       "      <td>2018-10-08 12:51:42.495907000</td>\n",
       "    </tr>\n",
       "  </tbody>\n",
       "</table>\n",
       "<p>5 rows × 22 columns</p>\n",
       "</div>"
      ],
      "text/plain": [
       "   SHOP_ID                     COACH  ZIPCODE                 CITY COUNTRY  \\\n",
       "0     1743  marie-victoire@skello.io    35740                 PACE      FR   \n",
       "1     7623  marie-victoire@skello.io    73700  Bourg Saint Maurice      FR   \n",
       "2     4763        meng-lan@skello.io   71570              CHAINTRE      FR   \n",
       "3     8284           hello@skello.io    97434  LA SALINE LES BAINS      FR   \n",
       "4     2054       constance@skello.io   45100   ORLEANS LA SOURCE        FR   \n",
       "\n",
       "                    OPENING_TIME                   CLOSING_TIME  IS_CANCELLED  \\\n",
       "0  2018-07-30 09:00:00.000000000  2018-07-30 00:00:00.000000000          True   \n",
       "1  2021-08-01 00:00:00.000000000  2021-08-01 00:00:00.000000000          True   \n",
       "2  2021-07-20 00:00:00.000000000  2021-07-20 00:00:00.000000000          True   \n",
       "3  2022-01-04 00:00:00.000000000  2022-01-04 00:00:00.000000000          True   \n",
       "4  2020-08-27 05:00:00.000000000  2020-08-27 05:00:00.000000000          True   \n",
       "\n",
       "                    CANCELLED_AT  AUTOMATIC_PLANNING_USES  ...  \\\n",
       "0  2021-10-30 00:00:00.000000000                        0  ...   \n",
       "1  2021-10-27 00:00:00.000000000                        0  ...   \n",
       "2  2021-11-15 00:00:00.000000000                        0  ...   \n",
       "3  2022-01-24 00:00:00.000000000                        0  ...   \n",
       "4  2021-07-12 00:00:00.000000000                        0  ...   \n",
       "\n",
       "   MEAL_COMPENSATION_ACTIVATED  SEND_REPORT_BY_EMAIL  DAY_BADGING_ACTIVATED  \\\n",
       "0                         True                 False                  False   \n",
       "1                         True                 False                  False   \n",
       "2                         True                 False                  False   \n",
       "3                         True                 False                  False   \n",
       "4                         True                 False                  False   \n",
       "\n",
       "   CONFIGURED  BADGING  AUTOMATIC_PLANNING_ACTIVE  INTEGRATIONS   LATITUDE  \\\n",
       "0        True    False                      False           NaN  48.140920   \n",
       "1        True    False                      False           NaN  45.591389   \n",
       "2        True    False                      False           bhi  46.256817   \n",
       "3        True    False                      False           NaN -21.099753   \n",
       "4        True    False                      False           spv  47.814633   \n",
       "\n",
       "   LONGITUDE                     CREATED_AT  \n",
       "0  -1.767448  2018-07-31 14:29:23.371493000  \n",
       "1   6.769210  2020-10-26 10:01:48.877575000  \n",
       "2   4.791242  2019-12-05 14:21:31.775364000  \n",
       "3  55.242180  2021-01-18 08:18:07.043409000  \n",
       "4   1.929799  2018-10-08 12:51:42.495907000  \n",
       "\n",
       "[5 rows x 22 columns]"
      ]
     },
     "execution_count": 3,
     "metadata": {},
     "output_type": "execute_result"
    }
   ],
   "source": [
    "shops.head()"
   ]
  },
  {
   "cell_type": "code",
   "execution_count": 4,
   "id": "8ceeb249-464b-4d4e-b8b9-a379e704fe97",
   "metadata": {},
   "outputs": [],
   "source": [
    "#Write all cities in uppercase \n",
    "shops['CITY'] = shops['CITY'].str.upper()"
   ]
  },
  {
   "cell_type": "markdown",
   "id": "c24880b6-42a6-47a2-a16d-86e29397a4ac",
   "metadata": {
    "tags": []
   },
   "source": [
    "### General Analysis on all shops"
   ]
  },
  {
   "cell_type": "code",
   "execution_count": 5,
   "id": "6894bed8-3346-4efc-9734-5d6096f6dbbf",
   "metadata": {},
   "outputs": [
    {
     "data": {
      "text/html": [
       "<iframe\n",
       "    scrolling=\"no\"\n",
       "    width=\"100%\"\n",
       "    height=\"545px\"\n",
       "    src=\"iframe_figures/figure_5.html\"\n",
       "    frameborder=\"0\"\n",
       "    allowfullscreen\n",
       "></iframe>\n"
      ]
     },
     "metadata": {},
     "output_type": "display_data"
    }
   ],
   "source": [
    "#Where are the users? \n",
    "fig = px.scatter_mapbox(shops, lat=\"LATITUDE\", lon=\"LONGITUDE\",  color='IS_CANCELLED', zoom = 4,\n",
    "                        mapbox_style=\"open-street-map\", hover_name = 'CITY', color_continuous_scale = 'Plasma', title='User geographical repartition in France') #,\n",
    "                       \n",
    "fig.show()"
   ]
  },
  {
   "cell_type": "code",
   "execution_count": 6,
   "id": "54c885ba-e551-46c4-b9c2-19477d4f77a3",
   "metadata": {},
   "outputs": [
    {
     "name": "stdout",
     "output_type": "stream",
     "text": [
      "About 86% of all time users have churned.\n"
     ]
    }
   ],
   "source": [
    "#How much churn do we have for Paris?\n",
    "shopschurn = round(sum(shops['IS_CANCELLED'] == True) / len(shops) * 100)\n",
    "print('About {}% of all time users have churned.'.format(shopschurn))"
   ]
  },
  {
   "cell_type": "code",
   "execution_count": 7,
   "id": "6d0aff1e-6ff2-4c51-a83b-2e87b8e3444a",
   "metadata": {
    "tags": []
   },
   "outputs": [
    {
     "data": {
      "text/plain": [
       "PARIS                    121\n",
       "STRASBOURG                32\n",
       "LYON                      21\n",
       "MAMOUDZOU                 20\n",
       "BORDEAUX                  17\n",
       "                        ... \n",
       "TORCY                      1\n",
       "MAMOUDZOU                  1\n",
       "DIGNE LES BAINS            1\n",
       "LA CHAPELLE SAINT LUC      1\n",
       "DOUVAINE                   1\n",
       "Name: CITY, Length: 536, dtype: int64"
      ]
     },
     "execution_count": 7,
     "metadata": {},
     "output_type": "execute_result"
    }
   ],
   "source": [
    "#Where are concentrated our users?\n",
    "shops['CITY'].value_counts()"
   ]
  },
  {
   "cell_type": "code",
   "execution_count": 8,
   "id": "78b7df07-1510-4349-9a63-b07fc803f0d7",
   "metadata": {},
   "outputs": [
    {
     "name": "stdout",
     "output_type": "stream",
     "text": [
      "Paris represents 12% of all users.\n"
     ]
    }
   ],
   "source": [
    "#Paris represents 12% of our users\n",
    "parisrep = round(sum(shops['CITY'] == 'PARIS') / len(shops) * 100)\n",
    "print('Paris represents {}% of all users.'.format(parisrep))"
   ]
  },
  {
   "cell_type": "code",
   "execution_count": 9,
   "id": "93cc5c5e-bb14-43bf-adc6-e7b5a1e688b5",
   "metadata": {},
   "outputs": [],
   "source": [
    "#Isolating Parisian users\n",
    "paris = shops.loc[shops['CITY'] == 'PARIS']"
   ]
  },
  {
   "cell_type": "code",
   "execution_count": 10,
   "id": "b9ca5d4b-7032-44c3-adf6-c3a7e72ffcd0",
   "metadata": {},
   "outputs": [
    {
     "name": "stdout",
     "output_type": "stream",
     "text": [
      "About 80% of Parisian users have churned.\n"
     ]
    }
   ],
   "source": [
    "#How much churn do we have for Paris?\n",
    "parischurn = round(sum(paris['IS_CANCELLED'] == True) / len(paris) * 100)\n",
    "print('About {}% of Parisian users have churned.'.format(parischurn))"
   ]
  },
  {
   "cell_type": "code",
   "execution_count": 11,
   "id": "12177f55-192d-487e-9d11-266cab31ad69",
   "metadata": {
    "tags": []
   },
   "outputs": [
    {
     "data": {
      "text/html": [
       "<iframe\n",
       "    scrolling=\"no\"\n",
       "    width=\"100%\"\n",
       "    height=\"545px\"\n",
       "    src=\"iframe_figures/figure_11.html\"\n",
       "    frameborder=\"0\"\n",
       "    allowfullscreen\n",
       "></iframe>\n"
      ]
     },
     "metadata": {},
     "output_type": "display_data"
    }
   ],
   "source": [
    "#Focus on Parisian users\n",
    "fig = px.scatter_mapbox(paris, lat=\"LATITUDE\", lon=\"LONGITUDE\",  color='IS_CANCELLED', zoom = 11,\n",
    "                        mapbox_style=\"open-street-map\", hover_name = 'CITY', color_continuous_scale = 'Plasma', title='Parisian users') #,\n",
    "                       \n",
    "fig.show()"
   ]
  },
  {
   "cell_type": "markdown",
   "id": "fa79ced1-7e2d-4c42-a5c8-e9c056f17074",
   "metadata": {},
   "source": [
    "**In this dataset, there are only 138 out of 978 that have not churned (14%):**"
   ]
  },
  {
   "cell_type": "code",
   "execution_count": 12,
   "id": "18f5bccb-74ee-4e1c-9cfc-dd09e3ebd6d0",
   "metadata": {},
   "outputs": [
    {
     "data": {
      "text/plain": [
       "True     842\n",
       "False    138\n",
       "Name: IS_CANCELLED, dtype: int64"
      ]
     },
     "execution_count": 12,
     "metadata": {},
     "output_type": "execute_result"
    }
   ],
   "source": [
    "shops['IS_CANCELLED'].value_counts()"
   ]
  },
  {
   "cell_type": "code",
   "execution_count": 13,
   "id": "acdb5d84-43d0-46a2-a523-9fd08b8f4b2d",
   "metadata": {},
   "outputs": [
    {
     "data": {
      "text/html": [
       "<iframe\n",
       "    scrolling=\"no\"\n",
       "    width=\"100%\"\n",
       "    height=\"545px\"\n",
       "    src=\"iframe_figures/figure_13.html\"\n",
       "    frameborder=\"0\"\n",
       "    allowfullscreen\n",
       "></iframe>\n"
      ]
     },
     "metadata": {},
     "output_type": "display_data"
    }
   ],
   "source": [
    "px.pie(shops, names='IS_CANCELLED', title='Churned vs Not Churned')"
   ]
  },
  {
   "cell_type": "code",
   "execution_count": 14,
   "id": "d6d8afc7-cc32-489a-a10d-b01743681c0f",
   "metadata": {},
   "outputs": [],
   "source": [
    "#Transform date columns to datetime format to allow calculations\n",
    "shops['CREATED_AT'] = pd.to_datetime(shops['CREATED_AT'])\n",
    "shops['CANCELLED_AT'] = pd.to_datetime(shops['CANCELLED_AT'])"
   ]
  },
  {
   "cell_type": "code",
   "execution_count": 15,
   "id": "a6503c37-70a4-45e1-bcf5-a74195d76c52",
   "metadata": {},
   "outputs": [],
   "source": [
    "#Create a DaysActive column to have the usage duration for shops that have churned\n",
    "shops['DaysActive'] = \"\""
   ]
  },
  {
   "cell_type": "code",
   "execution_count": 16,
   "id": "3c59cddb-8eb1-4d10-8d2b-3c9e938b45ad",
   "metadata": {},
   "outputs": [
    {
     "name": "stderr",
     "output_type": "stream",
     "text": [
      "/tmp/ipykernel_132/614484659.py:3: SettingWithCopyWarning:\n",
      "\n",
      "\n",
      "A value is trying to be set on a copy of a slice from a DataFrame\n",
      "\n",
      "See the caveats in the documentation: https://pandas.pydata.org/pandas-docs/stable/user_guide/indexing.html#returning-a-view-versus-a-copy\n",
      "\n"
     ]
    }
   ],
   "source": [
    "#Filling the column\n",
    "for i in range(len(shops)):\n",
    "    shops['DaysActive'][i] = (shops['CREATED_AT'][i] - shops['CANCELLED_AT'][i]).days"
   ]
  },
  {
   "cell_type": "code",
   "execution_count": 17,
   "id": "d556e61a-7f29-4fc8-bb69-a94e6d3c7c6c",
   "metadata": {},
   "outputs": [
    {
     "name": "stdout",
     "output_type": "stream",
     "text": [
      "564\n"
     ]
    }
   ],
   "source": [
    "#Looking for absurd values (created date is after churn date)\n",
    "for i in range(len(shops)):\n",
    "    if shops['CREATED_AT'][i] > shops['CANCELLED_AT'][i]:\n",
    "        print(i)"
   ]
  },
  {
   "cell_type": "code",
   "execution_count": 18,
   "id": "574e5f9f-9d75-4d90-9476-6e0496d514e5",
   "metadata": {},
   "outputs": [],
   "source": [
    "#drop row with absurd value\n",
    "shops = shops.drop(shops.index[564])"
   ]
  },
  {
   "cell_type": "markdown",
   "id": "c98c4cfb-c3da-476f-9d66-b3b9ec6c2ac5",
   "metadata": {
    "tags": []
   },
   "source": [
    "### **Product Usage Analysis**"
   ]
  },
  {
   "cell_type": "code",
   "execution_count": 19,
   "id": "5667c630-be19-4b80-a236-673ff4de3db9",
   "metadata": {},
   "outputs": [],
   "source": [
    "#Separating churned vs not churned to identify differences in product usage & parameters\n",
    "churned = shops[shops['IS_CANCELLED'] == True]\n",
    "notchurned = shops[shops['IS_CANCELLED'] == False]"
   ]
  },
  {
   "cell_type": "markdown",
   "id": "b3898940-e2bc-4772-9c44-d84a5a9903dd",
   "metadata": {},
   "source": [
    "**Usage of the \"Smart Planner\" feature:**"
   ]
  },
  {
   "cell_type": "code",
   "execution_count": 20,
   "id": "d99fbb0c-867a-4bff-8042-c1cf0fd56437",
   "metadata": {},
   "outputs": [
    {
     "name": "stdout",
     "output_type": "stream",
     "text": [
      "0% of active users and 0% of churned users were using the Smart Planner.\n"
     ]
    }
   ],
   "source": [
    "#Smart Planner feature usage\n",
    "actplan = round(sum(notchurned['AUTOMATIC_PLANNING_ACTIVE'] == True) / len(notchurned) * 100)\n",
    "chuplan = round(sum(churned['AUTOMATIC_PLANNING_ACTIVE'] == True) / len(churned) * 100)\n",
    "print('{}% of active users and {}% of churned users were using the Smart Planner.'.format(actplan, chuplan))"
   ]
  },
  {
   "cell_type": "code",
   "execution_count": 21,
   "id": "2035e880-4dee-450d-8def-5103eed4117d",
   "metadata": {},
   "outputs": [
    {
     "data": {
      "text/html": [
       "<div>\n",
       "<style scoped>\n",
       "    .dataframe tbody tr th:only-of-type {\n",
       "        vertical-align: middle;\n",
       "    }\n",
       "\n",
       "    .dataframe tbody tr th {\n",
       "        vertical-align: top;\n",
       "    }\n",
       "\n",
       "    .dataframe thead th {\n",
       "        text-align: right;\n",
       "    }\n",
       "</style>\n",
       "<table border=\"1\" class=\"dataframe\">\n",
       "  <thead>\n",
       "    <tr style=\"text-align: right;\">\n",
       "      <th></th>\n",
       "      <th>SHOP_ID</th>\n",
       "    </tr>\n",
       "    <tr>\n",
       "      <th>AUTOMATIC_PLANNING_ACTIVE</th>\n",
       "      <th></th>\n",
       "    </tr>\n",
       "  </thead>\n",
       "  <tbody>\n",
       "    <tr>\n",
       "      <th>False</th>\n",
       "      <td>976</td>\n",
       "    </tr>\n",
       "    <tr>\n",
       "      <th>True</th>\n",
       "      <td>3</td>\n",
       "    </tr>\n",
       "  </tbody>\n",
       "</table>\n",
       "</div>"
      ],
      "text/plain": [
       "                           SHOP_ID\n",
       "AUTOMATIC_PLANNING_ACTIVE         \n",
       "False                          976\n",
       "True                             3"
      ]
     },
     "execution_count": 21,
     "metadata": {},
     "output_type": "execute_result"
    }
   ],
   "source": [
    "#Indeed, only 3 shops have the Smart Planner activated\n",
    "shops.groupby('AUTOMATIC_PLANNING_ACTIVE')[['SHOP_ID']].count()"
   ]
  },
  {
   "cell_type": "markdown",
   "id": "5de127d9-d05d-44b3-b090-c6da23acfff9",
   "metadata": {},
   "source": [
    "**Usage of \"Meal Compensation\" feature:**"
   ]
  },
  {
   "cell_type": "code",
   "execution_count": 22,
   "id": "2cd70955-4f59-4e07-bf20-788e0f0cfd4f",
   "metadata": {},
   "outputs": [
    {
     "name": "stdout",
     "output_type": "stream",
     "text": [
      "61% of active users and 52% of churned users were using the Meal Compensation feature.\n"
     ]
    }
   ],
   "source": [
    "#Meal Compensation feature usage\n",
    "actmeal = round(sum(notchurned['MEAL_COMPENSATION_ACTIVATED'] == True) / len(notchurned) * 100)\n",
    "chumeal = round(sum(churned['MEAL_COMPENSATION_ACTIVATED'] == True) / len(churned) * 100)\n",
    "print('{}% of active users and {}% of churned users were using the Meal Compensation feature.'.format(actmeal, chumeal))"
   ]
  },
  {
   "cell_type": "markdown",
   "id": "0f210fcf-5303-42cf-bed6-ba5bfc0dd180",
   "metadata": {},
   "source": [
    "**\"Optimisation Activated By Hand\" feature:**"
   ]
  },
  {
   "cell_type": "code",
   "execution_count": 23,
   "id": "9d5c3fe7-0fa0-4809-9486-8eb74d867124",
   "metadata": {
    "tags": []
   },
   "outputs": [
    {
     "name": "stdout",
     "output_type": "stream",
     "text": [
      "46% of active users and 40% of churned users had the Optimisation Activated by Hand active.\n"
     ]
    }
   ],
   "source": [
    "#Optimisation Activated by Hand feature usage\n",
    "actopt = round(sum(notchurned['OPTIMISATION_ACTIVATED_BY_HAND'] == True) / len(notchurned) * 100)\n",
    "chuopt = round(sum(churned['OPTIMISATION_ACTIVATED_BY_HAND'] == True) / len(churned) * 100)\n",
    "print('{}% of active users and {}% of churned users had the Optimisation Activated by Hand active.'.format(actopt, chuopt))"
   ]
  },
  {
   "cell_type": "markdown",
   "id": "992e029a-677d-4c97-b6ef-6437cdf1e7d8",
   "metadata": {},
   "source": [
    "**\"Send Report by Email\" feature:**"
   ]
  },
  {
   "cell_type": "code",
   "execution_count": 24,
   "id": "2925dddb-e452-40b2-b984-c055a50e18fb",
   "metadata": {},
   "outputs": [
    {
     "name": "stdout",
     "output_type": "stream",
     "text": [
      "0% of active users and 0% of churned users were using the Send Report by Email feature.\n"
     ]
    }
   ],
   "source": [
    "#Active users\n",
    "actreport = round(sum(notchurned['SEND_REPORT_BY_EMAIL'] == True) / len(notchurned) * 100)\n",
    "chureport = round(sum(churned['SEND_REPORT_BY_EMAIL'] == True) / len(churned) * 100)\n",
    "print('{}% of active users and {}% of churned users were using the Send Report by Email feature.'.format(actreport, chureport))"
   ]
  },
  {
   "cell_type": "markdown",
   "id": "c4b9e90a-758e-4b2d-b0f5-69f701fdd9bf",
   "metadata": {},
   "source": [
    "**All shops had \"Configured\" as true, which does not give any insight:**"
   ]
  },
  {
   "cell_type": "code",
   "execution_count": 25,
   "id": "efc12721-b34f-42e4-989c-8f6331e0ca74",
   "metadata": {},
   "outputs": [
    {
     "data": {
      "text/html": [
       "<div>\n",
       "<style scoped>\n",
       "    .dataframe tbody tr th:only-of-type {\n",
       "        vertical-align: middle;\n",
       "    }\n",
       "\n",
       "    .dataframe tbody tr th {\n",
       "        vertical-align: top;\n",
       "    }\n",
       "\n",
       "    .dataframe thead th {\n",
       "        text-align: right;\n",
       "    }\n",
       "</style>\n",
       "<table border=\"1\" class=\"dataframe\">\n",
       "  <thead>\n",
       "    <tr style=\"text-align: right;\">\n",
       "      <th></th>\n",
       "      <th>SHOP_ID</th>\n",
       "    </tr>\n",
       "    <tr>\n",
       "      <th>CONFIGURED</th>\n",
       "      <th></th>\n",
       "    </tr>\n",
       "  </thead>\n",
       "  <tbody>\n",
       "    <tr>\n",
       "      <th>True</th>\n",
       "      <td>979</td>\n",
       "    </tr>\n",
       "  </tbody>\n",
       "</table>\n",
       "</div>"
      ],
      "text/plain": [
       "            SHOP_ID\n",
       "CONFIGURED         \n",
       "True            979"
      ]
     },
     "execution_count": 25,
     "metadata": {},
     "output_type": "execute_result"
    }
   ],
   "source": [
    "shops.groupby('CONFIGURED')[['SHOP_ID']].count()"
   ]
  },
  {
   "cell_type": "markdown",
   "id": "541bfcdf-0832-4db6-94fc-6f496c94c7d9",
   "metadata": {},
   "source": [
    "**\"Time Clock\" feature usage:**"
   ]
  },
  {
   "cell_type": "code",
   "execution_count": 26,
   "id": "c3d3d37e-a7e0-4f53-81c3-5f9bb65a4bfb",
   "metadata": {},
   "outputs": [
    {
     "name": "stdout",
     "output_type": "stream",
     "text": [
      "54% of active users and 43% of churned users were using the Time Clock/Badging feature.\n"
     ]
    }
   ],
   "source": [
    "#Badging feature usage\n",
    "actclock = round(sum(notchurned['BADGING'] == True) / len(notchurned) * 100)\n",
    "chuclock = round(sum(churned['BADGING'] == True) / len(churned) * 100)\n",
    "print('{}% of active users and {}% of churned users were using the Time Clock/Badging feature.'.format(actclock, chuclock))"
   ]
  },
  {
   "cell_type": "markdown",
   "id": "9cbae3d0-ee05-4a97-be3d-f9b5858e49e6",
   "metadata": {},
   "source": [
    "**Integrations: does the product being able to integrate with other tools have an impact?**"
   ]
  },
  {
   "cell_type": "code",
   "execution_count": 27,
   "id": "a9bbfa1a-b53b-4efa-860f-fc2907574663",
   "metadata": {},
   "outputs": [
    {
     "name": "stdout",
     "output_type": "stream",
     "text": [
      "20% of active users and 22% of churned users had integrated the product with other tools.\n"
     ]
    }
   ],
   "source": [
    "#Active users\n",
    "actint = round(sum(notchurned['INTEGRATIONS'].notnull()) / len(notchurned) * 100)\n",
    "chuint = round(sum(churned['INTEGRATIONS'].notnull()) / len(churned) * 100)\n",
    "print('{}% of active users and {}% of churned users had integrated the product with other tools.'.format(actint, chuint))"
   ]
  },
  {
   "cell_type": "markdown",
   "id": "a928351c-bd78-4736-87a5-81008116ece5",
   "metadata": {},
   "source": [
    "## Let's take a closer look at users that churned:"
   ]
  },
  {
   "cell_type": "markdown",
   "id": "dbc81242-680b-4dab-bb9f-62be8b409431",
   "metadata": {},
   "source": [
    "The 'lost_mrr' dataset gives us more in depth informations. It was merged with the 'shops' dataset on 'SHOP_ID'."
   ]
  },
  {
   "cell_type": "code",
   "execution_count": 28,
   "id": "4f24e4f3-23b5-4e2b-b23f-0db836e6da4f",
   "metadata": {},
   "outputs": [],
   "source": [
    "df = pd.read_csv('merged_mrr.csv')"
   ]
  },
  {
   "cell_type": "code",
   "execution_count": 29,
   "id": "7a1c3953-b428-4468-8f20-7b6ca1296809",
   "metadata": {},
   "outputs": [],
   "source": [
    "df['CLOSE_DATE'] = pd.to_datetime(df['CLOSE_DATE'])\n",
    "df['LOST_DATE'] = pd.to_datetime(df['LOST_DATE'])"
   ]
  },
  {
   "cell_type": "code",
   "execution_count": 30,
   "id": "fe8c227c-dc96-4173-a272-d0777b08b30c",
   "metadata": {},
   "outputs": [
    {
     "name": "stderr",
     "output_type": "stream",
     "text": [
      "/tmp/ipykernel_132/3191168377.py:4: SettingWithCopyWarning:\n",
      "\n",
      "\n",
      "A value is trying to be set on a copy of a slice from a DataFrame\n",
      "\n",
      "See the caveats in the documentation: https://pandas.pydata.org/pandas-docs/stable/user_guide/indexing.html#returning-a-view-versus-a-copy\n",
      "\n"
     ]
    }
   ],
   "source": [
    "#Adding the DaysActive column\n",
    "df['DaysActive'] = \"\"\n",
    "for i in range(len(df)):\n",
    "    df['DaysActive'][i] = (df['CLOSE_DATE'][i] - df['LOST_DATE'][i]).days"
   ]
  },
  {
   "cell_type": "markdown",
   "id": "b770c31f-9e61-4b09-a437-0f17a3060cec",
   "metadata": {},
   "source": [
    "### General Analysis"
   ]
  },
  {
   "cell_type": "code",
   "execution_count": 31,
   "id": "44123ce7-6749-49ab-bc8e-40fea3a57314",
   "metadata": {},
   "outputs": [
    {
     "data": {
      "text/html": [
       "<iframe\n",
       "    scrolling=\"no\"\n",
       "    width=\"100%\"\n",
       "    height=\"545px\"\n",
       "    src=\"iframe_figures/figure_31.html\"\n",
       "    frameborder=\"0\"\n",
       "    allowfullscreen\n",
       "></iframe>\n"
      ]
     },
     "metadata": {},
     "output_type": "display_data"
    }
   ],
   "source": [
    "fig = px.pie(df, names=df['MACRO_INDUSTRY'])\n",
    "fig.show()"
   ]
  },
  {
   "cell_type": "code",
   "execution_count": 32,
   "id": "81705cc0-a5aa-473b-8015-87d18e1c329a",
   "metadata": {},
   "outputs": [
    {
     "data": {
      "text/html": [
       "<iframe\n",
       "    scrolling=\"no\"\n",
       "    width=\"100%\"\n",
       "    height=\"545px\"\n",
       "    src=\"iframe_figures/figure_32.html\"\n",
       "    frameborder=\"0\"\n",
       "    allowfullscreen\n",
       "></iframe>\n"
      ]
     },
     "metadata": {},
     "output_type": "display_data"
    }
   ],
   "source": [
    "px.pie(df, names='AUTOMATIC_PLANNING_ACTIVE', title='Usage of Smart Planner')"
   ]
  },
  {
   "cell_type": "markdown",
   "id": "307e68c6-11cf-470a-983b-48f5587c46f6",
   "metadata": {},
   "source": [
    "Half of the shops that churned had a change in their contract:"
   ]
  },
  {
   "cell_type": "code",
   "execution_count": 33,
   "id": "61fb0757-f086-4934-bf94-2a72d43f3523",
   "metadata": {},
   "outputs": [
    {
     "data": {
      "text/html": [
       "<iframe\n",
       "    scrolling=\"no\"\n",
       "    width=\"100%\"\n",
       "    height=\"545px\"\n",
       "    src=\"iframe_figures/figure_33.html\"\n",
       "    frameborder=\"0\"\n",
       "    allowfullscreen\n",
       "></iframe>\n"
      ]
     },
     "metadata": {},
     "output_type": "display_data"
    }
   ],
   "source": [
    "#What's the distribution of opportunity types?\n",
    "fig = px.histogram(df, x=\"MACRO_INDUSTRY\", title=\"Repartition of Opportunity Types amongst Industries\", color= df['OPPORTUNITY_TYPE'])\n",
    "fig.show()"
   ]
  },
  {
   "cell_type": "markdown",
   "id": "0cada947-4fa1-4e4e-8c8b-47547e9f6a60",
   "metadata": {},
   "source": [
    "The majority of shops that churned in the Hospitality industry had a change in their contract."
   ]
  },
  {
   "cell_type": "markdown",
   "id": "e6f895cb-b518-40f5-83b2-8512781357b2",
   "metadata": {},
   "source": [
    "**A few questions come up at this point:**\n",
    "- Is the product a good fit for the Hospitality industry? What needs were not adressed by the product?\n",
    "- What kind of changes were made to the contracts? \n",
    "- Were some functionalities deactivated or added? \n",
    "- Was the smart planner activated on previous contracts?\n",
    "- Is the \"close date\" the first day of the new contract, or the first every contract signed? "
   ]
  },
  {
   "cell_type": "markdown",
   "id": "0c8d58f9-5778-4ad6-90c7-24689f74cec0",
   "metadata": {},
   "source": [
    "The second type of opportunity that churned were New Businesses. "
   ]
  },
  {
   "cell_type": "code",
   "execution_count": 34,
   "id": "2769991f-1277-4f76-93bd-3e3993f5af03",
   "metadata": {},
   "outputs": [
    {
     "name": "stdout",
     "output_type": "stream",
     "text": [
      "The hospitality potential MRR is 114€ * 627 = 71478€ for the period.\n"
     ]
    }
   ],
   "source": [
    "#How much potential MRR for Hospitality?\n",
    "hosp = df.loc[df['MACRO_INDUSTRY'] == 'Hospitality']\n",
    "mrrhosp = round(hosp['LOST_MRR'].mean())\n",
    "nbhosp = len(hosp)\n",
    "calc = mrrhosp * nbhosp\n",
    "print('The hospitality potential MRR is {}€ * {} = {}€ for the period.'.format(mrrhosp, nbhosp, calc))"
   ]
  },
  {
   "cell_type": "code",
   "execution_count": 35,
   "id": "ebcbe72e-5bef-4488-bdfe-7acb150e021b",
   "metadata": {},
   "outputs": [
    {
     "name": "stdout",
     "output_type": "stream",
     "text": [
      "The retail potential MRR is 116€ * 204 = 23664€ for the period.\n"
     ]
    }
   ],
   "source": [
    "#How much potential for MRR for Retail?\n",
    "retail = df.loc[df['MACRO_INDUSTRY'] == 'Retail']\n",
    "mrrretail = round(retail['LOST_MRR'].mean())\n",
    "nbretail = len(retail)\n",
    "calcu = mrrretail * nbretail\n",
    "print('The retail potential MRR is {}€ * {} = {}€ for the period.'.format(mrrretail, nbretail, calcu))"
   ]
  },
  {
   "cell_type": "markdown",
   "id": "a032284f-b780-45bc-b05d-59ce34d9da88",
   "metadata": {},
   "source": [
    "### Time Analysis"
   ]
  },
  {
   "cell_type": "markdown",
   "id": "d9a7882c-fe8b-493f-be39-446ad1ac02b5",
   "metadata": {},
   "source": [
    "The churn repartition between industries overtime doesn't seem to change drastically : Hospitality and Retail are always churning the most. \n",
    "\n",
    "Unfortunately, we don't have enough data to be able to observe true seasonal patterns.\n",
    "\n",
    "Although, we can identify a spike in Hospitality churn in January 2022:\n",
    "- Can it be linked to budgets being reduced, as it often happens at the beginning of the year?\n",
    "- Was a feature taken out in 2022, that was critical for Hospitality?"
   ]
  },
  {
   "cell_type": "code",
   "execution_count": 36,
   "id": "ef2c8efa-8e33-4f13-b487-9ce68700f4b0",
   "metadata": {},
   "outputs": [],
   "source": [
    "#Creating a column with month&year\n",
    "df['ym-date'] = df['LOST_DATE'].dt.strftime('%Y-%m')"
   ]
  },
  {
   "cell_type": "code",
   "execution_count": 37,
   "id": "6c59b9f1-db10-4b9a-8910-5b146ffae887",
   "metadata": {},
   "outputs": [
    {
     "data": {
      "text/html": [
       "<iframe\n",
       "    scrolling=\"no\"\n",
       "    width=\"100%\"\n",
       "    height=\"545px\"\n",
       "    src=\"iframe_figures/figure_37.html\"\n",
       "    frameborder=\"0\"\n",
       "    allowfullscreen\n",
       "></iframe>\n"
      ]
     },
     "metadata": {},
     "output_type": "display_data"
    }
   ],
   "source": [
    "fig = px.histogram(x=df[\"ym-date\"], color=df['MACRO_INDUSTRY'])\n",
    "fig.show()"
   ]
  },
  {
   "cell_type": "markdown",
   "id": "ff852ac1-6556-4b50-bc86-1ee28d0990c4",
   "metadata": {},
   "source": [
    "Hospitality follows the same pattern as the other industries:"
   ]
  },
  {
   "cell_type": "code",
   "execution_count": 38,
   "id": "328d284a-6097-4007-bf06-bada406093ae",
   "metadata": {},
   "outputs": [
    {
     "data": {
      "text/plain": [
       "<AxesSubplot:xlabel='ym-date'>"
      ]
     },
     "execution_count": 38,
     "metadata": {},
     "output_type": "execute_result"
    },
    {
     "data": {
      "image/png": "[encoded data removed]",
      "text/plain": [
       "<Figure size 432x288 with 1 Axes>"
      ]
     },
     "metadata": {
      "needs_background": "light"
     },
     "output_type": "display_data"
    }
   ],
   "source": [
    "df.groupby(df['ym-date']).size().plot()"
   ]
  },
  {
   "cell_type": "code",
   "execution_count": 39,
   "id": "afd59d96-a67a-42b3-a2e1-bd9881ca04b4",
   "metadata": {},
   "outputs": [],
   "source": [
    "#Isolating Hospitality\n",
    "hosp = df.loc[df['MACRO_INDUSTRY'] == 'Hospitality']"
   ]
  },
  {
   "cell_type": "code",
   "execution_count": 40,
   "id": "6bb0af6d-6f17-4272-951c-babe7309d25a",
   "metadata": {},
   "outputs": [
    {
     "data": {
      "text/plain": [
       "<AxesSubplot:xlabel='ym-date'>"
      ]
     },
     "execution_count": 40,
     "metadata": {},
     "output_type": "execute_result"
    },
    {
     "data": {
      "image/png": "[encoded data removed]",
      "text/plain": [
       "<Figure size 432x288 with 1 Axes>"
      ]
     },
     "metadata": {
      "needs_background": "light"
     },
     "output_type": "display_data"
    }
   ],
   "source": [
    "hosp.groupby(hosp['ym-date']).size().plot()"
   ]
  },
  {
   "cell_type": "markdown",
   "id": "53f6caac-212f-4899-ae9f-5a0738077af1",
   "metadata": {},
   "source": [
    "### Customer Journey and Experience"
   ]
  },
  {
   "cell_type": "markdown",
   "id": "6563e2cc-5685-41de-8025-c6b4518d53ec",
   "metadata": {},
   "source": [
    "A customer’s journey and experience is extremely tight to his interactions with the company (here, whoever was in charge of onboarding the user). \n"
   ]
  },
  {
   "cell_type": "code",
   "execution_count": 41,
   "id": "8a40da70-34c5-44f4-b51f-377914b6729e",
   "metadata": {},
   "outputs": [
    {
     "data": {
      "text/plain": [
       "hello@skello.io               163\n",
       "timothee@skello.io            107\n",
       "maelle.briot@skello.io         91\n",
       "agathe.lemaistre@skello.io     81\n",
       "constance@skello.io            70\n",
       "marie-victoire@skello.io       63\n",
       "ilona.dronne@skello.io         55\n",
       "Name: COACH, dtype: int64"
      ]
     },
     "metadata": {},
     "output_type": "display_data"
    }
   ],
   "source": [
    "#Number of accounts (over 50) per coach that churned for the period\n",
    "display(df['COACH'].value_counts().head(7))"
   ]
  },
  {
   "cell_type": "markdown",
   "id": "48144ea9-5ec1-4899-8bb9-34f3f7359ec6",
   "metadata": {},
   "source": [
    "There are 163 accounts that churned that were coached by someone behind the \"hello@skello.io\" email adress, which is impossible to track."
   ]
  },
  {
   "cell_type": "code",
   "execution_count": 42,
   "id": "9edc20f7-3f0f-43dd-befc-42e7bb54ef7c",
   "metadata": {},
   "outputs": [],
   "source": [
    "#Isolating the first seven coaches\n",
    "list_mrr = ['hello@skello.io','timothee@skello.io','maelle.briot@skello.io','agathe.lemaistre@skello.io','constance@skello.io','marie-victoire@skello.io','ilona.dronne@skello.io']"
   ]
  },
  {
   "cell_type": "code",
   "execution_count": 43,
   "id": "974b21e0-35b6-45a3-a174-f7d258e5b706",
   "metadata": {},
   "outputs": [],
   "source": [
    "#Create a df with only the 7 coaches with the most lost MRR\n",
    "df2 = df[df['COACH'].isin(list_mrr)]"
   ]
  },
  {
   "cell_type": "code",
   "execution_count": 44,
   "id": "8898082c-2a9c-4fc8-aca6-16eef4531f17",
   "metadata": {},
   "outputs": [
    {
     "data": {
      "text/html": [
       "<div>\n",
       "<style scoped>\n",
       "    .dataframe tbody tr th:only-of-type {\n",
       "        vertical-align: middle;\n",
       "    }\n",
       "\n",
       "    .dataframe tbody tr th {\n",
       "        vertical-align: top;\n",
       "    }\n",
       "\n",
       "    .dataframe thead tr th {\n",
       "        text-align: left;\n",
       "    }\n",
       "\n",
       "    .dataframe thead tr:last-of-type th {\n",
       "        text-align: right;\n",
       "    }\n",
       "</style>\n",
       "<table border=\"1\" class=\"dataframe\">\n",
       "  <thead>\n",
       "    <tr>\n",
       "      <th></th>\n",
       "      <th colspan=\"2\" halign=\"left\">LOST_MRR</th>\n",
       "    </tr>\n",
       "    <tr>\n",
       "      <th></th>\n",
       "      <th>mean</th>\n",
       "      <th>sum</th>\n",
       "    </tr>\n",
       "    <tr>\n",
       "      <th>COACH</th>\n",
       "      <th></th>\n",
       "      <th></th>\n",
       "    </tr>\n",
       "  </thead>\n",
       "  <tbody>\n",
       "    <tr>\n",
       "      <th>agathe.lemaistre@skello.io</th>\n",
       "      <td>127.084691</td>\n",
       "      <td>10293.86</td>\n",
       "    </tr>\n",
       "    <tr>\n",
       "      <th>constance@skello.io</th>\n",
       "      <td>84.257143</td>\n",
       "      <td>5898.00</td>\n",
       "    </tr>\n",
       "    <tr>\n",
       "      <th>hello@skello.io</th>\n",
       "      <td>125.618712</td>\n",
       "      <td>20475.85</td>\n",
       "    </tr>\n",
       "    <tr>\n",
       "      <th>ilona.dronne@skello.io</th>\n",
       "      <td>122.035818</td>\n",
       "      <td>6711.97</td>\n",
       "    </tr>\n",
       "    <tr>\n",
       "      <th>maelle.briot@skello.io</th>\n",
       "      <td>115.392857</td>\n",
       "      <td>10500.75</td>\n",
       "    </tr>\n",
       "    <tr>\n",
       "      <th>marie-victoire@skello.io</th>\n",
       "      <td>101.985714</td>\n",
       "      <td>6425.10</td>\n",
       "    </tr>\n",
       "    <tr>\n",
       "      <th>timothee@skello.io</th>\n",
       "      <td>71.505421</td>\n",
       "      <td>7651.08</td>\n",
       "    </tr>\n",
       "  </tbody>\n",
       "</table>\n",
       "</div>"
      ],
      "text/plain": [
       "                              LOST_MRR          \n",
       "                                  mean       sum\n",
       "COACH                                           \n",
       "agathe.lemaistre@skello.io  127.084691  10293.86\n",
       "constance@skello.io          84.257143   5898.00\n",
       "hello@skello.io             125.618712  20475.85\n",
       "ilona.dronne@skello.io      122.035818   6711.97\n",
       "maelle.briot@skello.io      115.392857  10500.75\n",
       "marie-victoire@skello.io    101.985714   6425.10\n",
       "timothee@skello.io           71.505421   7651.08"
      ]
     },
     "execution_count": 44,
     "metadata": {},
     "output_type": "execute_result"
    }
   ],
   "source": [
    "#Average and sum of lost MRR per coach\n",
    "df2.groupby('COACH').agg({'LOST_MRR': ['mean', 'sum']})"
   ]
  },
  {
   "cell_type": "markdown",
   "id": "ba65fd86-4b3e-47d9-b776-8fa5b0e943f1",
   "metadata": {},
   "source": [
    "**Coaches don't seem to be specialized in some industries:**"
   ]
  },
  {
   "cell_type": "code",
   "execution_count": 45,
   "id": "55b25852-db75-433b-adb0-b7efcac726dd",
   "metadata": {},
   "outputs": [
    {
     "data": {
      "text/html": [
       "<iframe\n",
       "    scrolling=\"no\"\n",
       "    width=\"100%\"\n",
       "    height=\"545px\"\n",
       "    src=\"iframe_figures/figure_45.html\"\n",
       "    frameborder=\"0\"\n",
       "    allowfullscreen\n",
       "></iframe>\n"
      ]
     },
     "metadata": {},
     "output_type": "display_data"
    }
   ],
   "source": [
    "#Industries amongst coaches\n",
    "fig = px.histogram(x=df2[\"COACH\"], color=df2['MACRO_INDUSTRY'])\n",
    "fig.show()"
   ]
  },
  {
   "cell_type": "code",
   "execution_count": 46,
   "id": "e71ffbbb-92c2-4319-ae5d-f5b902704ca4",
   "metadata": {},
   "outputs": [
    {
     "data": {
      "text/html": [
       "<iframe\n",
       "    scrolling=\"no\"\n",
       "    width=\"100%\"\n",
       "    height=\"545px\"\n",
       "    src=\"iframe_figures/figure_46.html\"\n",
       "    frameborder=\"0\"\n",
       "    allowfullscreen\n",
       "></iframe>\n"
      ]
     },
     "metadata": {},
     "output_type": "display_data"
    }
   ],
   "source": [
    "#Acquisition channels per coach\n",
    "fig = px.histogram(x=df2[\"COACH\"], color=df2['CANAL'])\n",
    "fig.show()"
   ]
  },
  {
   "cell_type": "code",
   "execution_count": 47,
   "id": "144b8888-027b-4394-ae63-0243e412a7f3",
   "metadata": {},
   "outputs": [
    {
     "data": {
      "text/html": [
       "<iframe\n",
       "    scrolling=\"no\"\n",
       "    width=\"100%\"\n",
       "    height=\"545px\"\n",
       "    src=\"iframe_figures/figure_47.html\"\n",
       "    frameborder=\"0\"\n",
       "    allowfullscreen\n",
       "></iframe>\n"
      ]
     },
     "metadata": {},
     "output_type": "display_data"
    }
   ],
   "source": [
    "px.pie(df, names='CANAL', title='Canal repartition')"
   ]
  },
  {
   "cell_type": "markdown",
   "id": "947f9e0c-8bd9-4d4f-b696-4b228c2ff681",
   "metadata": {},
   "source": [
    "It appears that leads from inbound marketing strategies are more qualitative and less prone to churn than leads from outbound marketing strategies."
   ]
  },
  {
   "cell_type": "code",
   "execution_count": 48,
   "id": "d0b68f2f-ca79-49b0-a689-13e7c65f522f",
   "metadata": {},
   "outputs": [],
   "source": [
    "inbound = df2.loc[df2['CANAL'] == 'Inbound']\n",
    "outbound = df2.loc[df2['CANAL'] == 'Outbound']"
   ]
  },
  {
   "cell_type": "code",
   "execution_count": 49,
   "id": "4e56da08-c438-42e7-a142-af6303ea3b77",
   "metadata": {},
   "outputs": [
    {
     "name": "stdout",
     "output_type": "stream",
     "text": [
      "Churned users coming from Inbound used the product for an average of -285.5112781954887 days, and -207.86206896551724 days for churned users from Outbound.\n"
     ]
    }
   ],
   "source": [
    "inboundact = inbound['DaysActive'].mean()\n",
    "outboundact = outbound['DaysActive'].mean()\n",
    "print('Churned users coming from Inbound used the product for an average of {} days, and {} days for churned users from Outbound.'.format(inboundact, outboundact))"
   ]
  },
  {
   "cell_type": "markdown",
   "id": "d7b256cc-1e35-4a06-8f0f-a952d0b2f414",
   "metadata": {},
   "source": [
    "**What are the 5 most sold memberships?**"
   ]
  },
  {
   "cell_type": "code",
   "execution_count": 50,
   "id": "0b4ab3b1-ae48-46ea-9a4b-7f5231e78255",
   "metadata": {},
   "outputs": [
    {
     "data": {
      "text/plain": [
       "109.0    178\n",
       "139.0    144\n",
       "188.0     75\n",
       "89.0      53\n",
       "125.1     50\n",
       "Name: LOST_MRR, dtype: int64"
      ]
     },
     "execution_count": 50,
     "metadata": {},
     "output_type": "execute_result"
    }
   ],
   "source": [
    "df['LOST_MRR'].value_counts().head(5)"
   ]
  },
  {
   "cell_type": "code",
   "execution_count": 51,
   "id": "25c054e6-8ae2-4fc6-ae2f-3f070aa28a12",
   "metadata": {},
   "outputs": [],
   "source": [
    "#Isolating Success Memberships\n",
    "memberships = df.loc[df['LOST_MRR'] == 109.0]"
   ]
  },
  {
   "cell_type": "markdown",
   "id": "5e25a06e-9c20-4b70-b49e-0a3bed3f9c27",
   "metadata": {},
   "source": [
    "**Half of churned users on a Success Membership were new users:**"
   ]
  },
  {
   "cell_type": "code",
   "execution_count": 52,
   "id": "b027600a-f10a-401c-859c-dc77534aa5d7",
   "metadata": {},
   "outputs": [
    {
     "data": {
      "text/html": [
       "<iframe\n",
       "    scrolling=\"no\"\n",
       "    width=\"100%\"\n",
       "    height=\"545px\"\n",
       "    src=\"iframe_figures/figure_52.html\"\n",
       "    frameborder=\"0\"\n",
       "    allowfullscreen\n",
       "></iframe>\n"
      ]
     },
     "metadata": {},
     "output_type": "display_data"
    }
   ],
   "source": [
    "px.pie(memberships, names='OPPORTUNITY_TYPE', title='Opportunity types for Success Membership')"
   ]
  },
  {
   "cell_type": "code",
   "execution_count": 53,
   "id": "e34a200e-0683-4b7d-9ab5-f561330f0c89",
   "metadata": {},
   "outputs": [
    {
     "data": {
      "text/plain": [
       "COACH                       TEAM              \n",
       "agathe.lemaistre@skello.io  CSM                   18\n",
       "                            Outbound               4\n",
       "                            Account Management     2\n",
       "constance@skello.io         CSM                   70\n",
       "hello@skello.io             CSM                   39\n",
       "                            Inbound               28\n",
       "                            Outbound              23\n",
       "                            Account Management    15\n",
       "                            Self_Serve             1\n",
       "ilona.dronne@skello.io      CSM                   12\n",
       "                            Outbound               4\n",
       "                            Account Management     3\n",
       "maelle.briot@skello.io      CSM                   30\n",
       "                            Outbound              19\n",
       "                            Account Management     4\n",
       "                            Inbound                3\n",
       "marie-victoire@skello.io    CSM                   20\n",
       "                            Inbound               10\n",
       "                            Outbound               5\n",
       "                            Account Management     2\n",
       "timothee@skello.io          CSM                    6\n",
       "                            Management             2\n",
       "dtype: int64"
      ]
     },
     "execution_count": 53,
     "metadata": {},
     "output_type": "execute_result"
    }
   ],
   "source": [
    "df2.groupby('COACH')[['TEAM']].value_counts()"
   ]
  },
  {
   "cell_type": "code",
   "execution_count": null,
   "id": "92751a91-9a1c-45d5-abb4-07efe34067b5",
   "metadata": {},
   "outputs": [],
   "source": []
  }
 ],
 "metadata": {
  "kernelspec": {
   "display_name": "Python 3 (ipykernel)",
   "language": "python",
   "name": "python3"
  },
  "language_info": {
   "codemirror_mode": {
    "name": "ipython",
    "version": 3
   },
   "file_extension": ".py",
   "mimetype": "text/x-python",
   "name": "python",
   "nbconvert_exporter": "python",
   "pygments_lexer": "ipython3",
   "version": "3.9.7"
  }
 },
 "nbformat": 4,
 "nbformat_minor": 5
}
